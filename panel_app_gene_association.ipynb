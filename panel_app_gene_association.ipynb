{
  "nbformat": 4,
  "nbformat_minor": 0,
  "metadata": {
    "colab": {
      "provenance": [],
      "include_colab_link": true
    },
    "kernelspec": {
      "name": "python3",
      "display_name": "Python 3"
    },
    "language_info": {
      "name": "python"
    }
  },
  "cells": [
    {
      "cell_type": "markdown",
      "metadata": {
        "id": "view-in-github",
        "colab_type": "text"
      },
      "source": [
        "<a href=\"https://colab.research.google.com/github/comparativechrono/panel_app_gene_enrichment/blob/main/panel_app_gene_association.ipynb\" target=\"_parent\"><img src=\"https://colab.research.google.com/assets/colab-badge.svg\" alt=\"Open In Colab\"/></a>"
      ]
    },
    {
      "cell_type": "markdown",
      "source": [
        "<table style=\"width:100%;\">\n",
        "  <tr>\n",
        "    <td style=\"text-align:left;\">\n",
        "      <h1>PanelApp Gene Enrichment v1.7</h1>\n",
        "      <p>Enrichment analysis using clinical gene panels</p>\n",
        "    </td>\n",
        "    <td style=\"text-align:right;\">\n",
        "      <img src=\"https://raw.githubusercontent.com/comparativechrono/panel_app_gene_enrichment/main/logo/logo.png\" width=\"100\" height=\"100\" />\n",
        "    </td>\n",
        "  </tr>\n",
        "</table>\n",
        "\n",
        "In this notebook we do some simple enrichment on the Genomics England gene panels pulled from the PanelApp API. The code cycles through panel app panels, gets panel IDs, and obtains the gene symbols for the green genes on each panel. Then we provide some example gene sets for enrichment analysis, and look for whether any panels are enriched in these gene sets."
      ],
      "metadata": {
        "id": "8FdDdoADVkNV"
      }
    },
    {
      "cell_type": "markdown",
      "source": [
        "# Environment preparation"
      ],
      "metadata": {
        "id": "NsR_WGfb7Er7"
      }
    },
    {
      "cell_type": "code",
      "source": [
        "import requests\n",
        "import pandas as pd\n",
        "from scipy.stats import fisher_exact\n",
        "import matplotlib.pyplot as plt\n",
        "from matplotlib_venn import venn3, venn3_circles\n",
        "import numpy as np\n",
        "import statsmodels.stats.multitest as multi\n",
        "import math\n",
        "import six\n",
        "import seaborn as sns"
      ],
      "metadata": {
        "id": "ayY0vRxo5xJ7"
      },
      "execution_count": null,
      "outputs": []
    },
    {
      "cell_type": "markdown",
      "source": [
        "# Step 1 - Data Acquisition\n",
        "Get all the genes for each gene panel from the PanelApp API. Change confidence level to 2 for amber genes, currently set at 3 for green genes. This API call takes about 10 minutes to pull the whole database."
      ],
      "metadata": {
        "id": "ttVNdEPr54P0"
      }
    },
    {
      "cell_type": "code",
      "source": [
        "def get_all_panels():\n",
        "    # Define the base URL\n",
        "    base_url = 'https://panelapp.genomicsengland.co.uk/api/v1/'\n",
        "\n",
        "    # Define the endpoint path\n",
        "    endpoint_path = 'panels/'\n",
        "\n",
        "    # Create the full URL\n",
        "    full_url = base_url + endpoint_path\n",
        "\n",
        "    all_panels = []\n",
        "\n",
        "    while full_url is not None:\n",
        "        # Make the request\n",
        "        response = requests.get(full_url)\n",
        "\n",
        "        # Check that the request was successful\n",
        "        if response.status_code == 200:\n",
        "            # Parse the response as JSON\n",
        "            panels = response.json()\n",
        "\n",
        "            # Add the results to our list\n",
        "            all_panels.extend(panels['results'])\n",
        "\n",
        "            # Get the next URL\n",
        "            full_url = panels['next']\n",
        "        else:\n",
        "            print(f'Request failed with status code {response.status_code}')\n",
        "            return None\n",
        "\n",
        "    return all_panels\n",
        "\n",
        "def get_genes_for_panel(panel_id):\n",
        "    # Define the base URL\n",
        "    base_url = 'https://panelapp.genomicsengland.co.uk/api/v1/'\n",
        "\n",
        "    # Define the endpoint path\n",
        "    endpoint_path = f'panels/{panel_id}/genes/'\n",
        "\n",
        "    # Create the full URL\n",
        "    full_url = base_url + endpoint_path\n",
        "\n",
        "    # List to store all genes for the panel\n",
        "    all_genes = []\n",
        "\n",
        "    while full_url is not None:\n",
        "        # Make the request\n",
        "        response = requests.get(full_url)\n",
        "\n",
        "        # Check that the request was successful\n",
        "        if response.status_code == 200:\n",
        "            # Parse the response as JSON\n",
        "            panel_data = response.json()\n",
        "\n",
        "            # Add the genes to the list\n",
        "            all_genes.extend([(gene['gene_data']['gene_symbol'], gene['confidence_level']) for gene in panel_data['results']])\n",
        "\n",
        "            # Get the next URL\n",
        "            full_url = panel_data['next']\n",
        "        else:\n",
        "            print(f'Request failed with status code {response.status_code}')\n",
        "            return None\n",
        "\n",
        "    return all_genes\n",
        "\n",
        "# Get all panels\n",
        "all_panels = get_all_panels()\n",
        "\n",
        "if all_panels is not None:\n",
        "    # Create a DataFrame from the list of panels\n",
        "    df = pd.DataFrame(all_panels)\n",
        "\n",
        "    # Create two empty dictionaries to store gene series\n",
        "    genes_dict = {}\n",
        "    all_genes_dict = {}\n",
        "\n",
        "    # Iterate over the panels\n",
        "    for panel_id in df['id']:\n",
        "        # Initialize the list of green genes for this panel\n",
        "        green_genes = []\n",
        "\n",
        "        # Get the genes for the panel\n",
        "        genes = get_genes_for_panel(panel_id)\n",
        "\n",
        "        # Check if genes exist and is not an empty list\n",
        "        if genes is not None and len(genes) > 0:\n",
        "            # Split the tuples into two lists: genes and confidence levels\n",
        "            gene_symbols, confidence_levels = zip(*genes)\n",
        "\n",
        "            # Create a DataFrame for this panel\n",
        "            panel_df = pd.DataFrame({\n",
        "                'gene_symbol': gene_symbols,\n",
        "                'confidence_level': confidence_levels\n",
        "            })\n",
        "\n",
        "            # Add the DataFrame to the all_genes_dict\n",
        "            all_genes_dict[panel_id] = panel_df\n",
        "\n",
        "            # Collect the green genes\n",
        "            green_genes = [gene_symbol for gene_symbol, confidence_level in genes if int(float(confidence_level)) == 3]\n",
        "\n",
        "        # Add the green genes to genes_dict regardless of whether there are any green genes or not\n",
        "        genes_dict[panel_id] = pd.Series(list(set(green_genes)), dtype='object')\n",
        "\n",
        "    # Concatenate all the DataFrames along the columns axis\n",
        "    all_genes_df = pd.concat(all_genes_dict.values(), keys=all_genes_dict.keys(), axis=0)\n",
        "\n",
        "    # Reset the index\n",
        "    all_genes_df.reset_index(level=0, inplace=True)\n",
        "\n",
        "    # Rename the 'level_0' column to 'panel_id'\n",
        "    all_genes_df.rename(columns={'level_0': 'panel_id'}, inplace=True)\n",
        "\n",
        "    # Save the all_genes_df DataFrame to a CSV file\n",
        "    all_genes_df.to_csv('all_genes.csv')\n",
        "\n",
        "    # Create a DataFrame from the dictionary of green genes\n",
        "    genes_df = pd.concat(genes_dict, axis=1)\n",
        "\n",
        "    # Save the genes_df DataFrame to a CSV file\n",
        "    genes_df.to_csv('genes.csv')\n"
      ],
      "metadata": {
        "id": "y98LzbrnTy26"
      },
      "execution_count": null,
      "outputs": []
    },
    {
      "cell_type": "markdown",
      "source": [
        "# Step 2 - Gene Panel Enrichment Testing"
      ],
      "metadata": {
        "id": "sox8ECrX6gPl"
      }
    },
    {
      "cell_type": "markdown",
      "source": [
        "Get panel names from original API request"
      ],
      "metadata": {
        "id": "TJR-UI9yQV_n"
      }
    },
    {
      "cell_type": "code",
      "source": [
        "panel_id_to_name = {panel['id']: panel['name'] for panel in all_panels}\n"
      ],
      "metadata": {
        "id": "17-lUdSji9E0"
      },
      "execution_count": null,
      "outputs": []
    },
    {
      "cell_type": "markdown",
      "source": [
        "### Download your dataset for looking for enrichment\n",
        "Three are used in the paper:\n",
        "\n",
        "1.   circaDB rhythmic genes (http://circadb.hogeneschlab.org/human)\n",
        "2.   maternal effect genes\n",
        "3.   GO:0019318 - hexose metabolic process (https://amigo.geneontology.org/amigo/term/GO:0019318)\n",
        "\n",
        "The gene lists are stored in the `examples` directory on GitHub\n"
      ],
      "metadata": {
        "id": "7IhFI2OjQPbo"
      }
    },
    {
      "cell_type": "code",
      "source": [
        "# dataset_url = \"https://raw.githubusercontent.com/comparativechrono/panel_app_gene_enrichment/main/examples/circaDB.tsv\"\n",
        "\n",
        "# dataset_url = \"https://raw.githubusercontent.com/comparativechrono/panel_app_gene_enrichment/main/examples/maternal.tsv\"\n",
        "\n",
        "# dataset_url = \"https://raw.githubusercontent.com/comparativechrono/panel_app_gene_enrichment/main/examples/0019318.tsv\"\n",
        "\n",
        "# dataset_url = \"https://raw.githubusercontent.com/comparativechrono/panel_app_gene_enrichment/main/examples/seasonal_babydiet_dopico_S3.tsv\"\n",
        "\n",
        "dataset_url = \"https://raw.githubusercontent.com/comparativechrono/panel_app_gene_enrichment/main/examples/GO0198738_human.tsv\"\n",
        "\n",
        "# Load gene set\n",
        "gene_set = set(pd.read_csv(dataset_url, sep='\\t', header=None)[0])"
      ],
      "metadata": {
        "id": "kPlxXR5rRZK9"
      },
      "execution_count": null,
      "outputs": []
    },
    {
      "cell_type": "markdown",
      "source": [
        "### Perform the enrichment using Fishers exact test\n",
        "\n",
        "Two things are outputted from this code block. First, the results of Fisher's exact test, and the FDR corrected p value. Secondly, a file containing the genes in the overlap between the gene set being tested and the panels."
      ],
      "metadata": {
        "id": "fXHZdqXt7MSC"
      }
    },
    {
      "cell_type": "code",
      "source": [
        "# Calculate Fisher's test for each panel\n",
        "results = []\n",
        "overlapping_genes_dict = {}  # Create a dictionary to hold the overlapping genes\n",
        "total_genes = 20449\n",
        "for panel_id, panel_genes in genes_df.items():\n",
        "    panel_genes = set(panel_genes.dropna())\n",
        "    overlapping_genes = gene_set & panel_genes  # Get the overlapping genes\n",
        "    in_gene_set_and_panel = len(gene_set & panel_genes)\n",
        "    in_gene_set_and_not_panel = len(gene_set) - in_gene_set_and_panel\n",
        "    in_not_gene_set_and_panel = len(panel_genes) - in_gene_set_and_panel\n",
        "    in_not_gene_set_and_not_panel = total_genes - len(gene_set) - in_not_gene_set_and_panel\n",
        "\n",
        "    contingency_table = [[in_gene_set_and_panel, in_gene_set_and_not_panel],\n",
        "                         [in_not_gene_set_and_panel, in_not_gene_set_and_not_panel]]\n",
        "\n",
        "    odds_ratio, p_value = fisher_exact(contingency_table)\n",
        "\n",
        "    # Include panel name in results\n",
        "    panel_name = panel_id_to_name[int(panel_id)]\n",
        "    results.append((panel_id, panel_name, odds_ratio, p_value))\n",
        "\n",
        "    # Store the overlapping genes for this panel\n",
        "    overlapping_genes_dict[panel_name] = list(overlapping_genes)\n",
        "\n",
        "# Create a DataFrame from the results\n",
        "result_df = pd.DataFrame(results, columns=['Panel ID', 'Panel Name', 'Odds Ratio', 'p-value'])\n",
        "\n",
        "# Perform FDR correction on the p-values\n",
        "result_df['q-value'] = multi.multipletests(result_df['p-value'], method='fdr_bh')[1]\n",
        "\n",
        "# Save the DataFrame to a CSV file\n",
        "result_df.to_csv('fisher_results.csv')\n",
        "\n",
        "# Convert the overlapping genes dictionary to a DataFrame\n",
        "overlapping_genes_df = pd.DataFrame(dict([ (k,pd.Series(v, dtype=object)) for k,v in overlapping_genes_dict.items() ]))\n",
        "\n",
        "# Save the DataFrame to a CSV file\n",
        "overlapping_genes_df.to_csv('overlapping_genes.csv', index=False)\n",
        "\n"
      ],
      "metadata": {
        "id": "mLlE8IsPjB8S"
      },
      "execution_count": null,
      "outputs": []
    },
    {
      "cell_type": "markdown",
      "source": [
        "# Step 3 - Data Visualization"
      ],
      "metadata": {
        "id": "Z252Ysjm6l1x"
      }
    },
    {
      "cell_type": "markdown",
      "source": [
        "### Venn diagram\n",
        "Create a Venn diagram of which genes in the gene set are green, amber or red on Genomics England PanelApp"
      ],
      "metadata": {
        "id": "cwhvnm3VgxCW"
      }
    },
    {
      "cell_type": "code",
      "source": [
        "# Convert confidence level to integer\n",
        "all_genes_df['confidence_level'] = all_genes_df['confidence_level'].astype(int)\n",
        "\n",
        "# Get the sets of unique genes for each confidence level\n",
        "green_genes = set(all_genes_df[all_genes_df['confidence_level'] == 3]['gene_symbol'].unique())\n",
        "amber_genes = set(all_genes_df[all_genes_df['confidence_level'] == 2]['gene_symbol'].unique())\n",
        "red_genes = set(all_genes_df[all_genes_df['confidence_level'] == 1]['gene_symbol'].unique())\n",
        "\n",
        "# Only keep genes that are in gene_set\n",
        "green_genes = green_genes.intersection(gene_set)\n",
        "amber_genes = amber_genes.intersection(gene_set)\n",
        "red_genes = red_genes.intersection(gene_set)\n",
        "\n",
        "print(f\"Number of green genes: {len(green_genes)}\")\n",
        "print(f\"Number of amber genes: {len(amber_genes)}\")\n",
        "print(f\"Number of red genes: {len(red_genes)}\")\n",
        "\n",
        "# Plot the Venn diagram\n",
        "plt.figure(figsize=(10, 10))\n",
        "\n",
        "# Use the venn3 function to create the Venn diagram and store the result\n",
        "v = venn3([green_genes, amber_genes, red_genes], ('Green Genes', 'Amber Genes', 'Red Genes'))\n",
        "\n",
        "# Change the colors\n",
        "if len(green_genes) > 0:\n",
        "    v.get_patch_by_id('100').set_color('green')\n",
        "if len(amber_genes) > 0:\n",
        "    v.get_patch_by_id('010').set_color('orange')\n",
        "if len(red_genes) > 0:\n",
        "    v.get_patch_by_id('001').set_color('red')\n",
        "\n",
        "# Change the line styles\n",
        "c = venn3_circles([green_genes, amber_genes, red_genes], linestyle='solid')\n",
        "if len(green_genes) > 0:\n",
        "    c[0].set_ls('solid')  # Change the style of the first circle line to solid\n",
        "if len(amber_genes) > 0:\n",
        "    c[1].set_ls('solid')  # Change the style of the second circle line to solid\n",
        "if len(red_genes) > 0:\n",
        "    c[2].set_ls('solid')  # Change the style of the third circle line to solid\n",
        "\n",
        "# Save the plot to a file\n",
        "plt.savefig(\"venn.png\", dpi=300, bbox_inches='tight')\n",
        "\n",
        "# Display the plot\n",
        "plt.show()\n",
        "\n"
      ],
      "metadata": {
        "id": "a8yPFP9OgwRX"
      },
      "execution_count": null,
      "outputs": []
    },
    {
      "cell_type": "markdown",
      "source": [
        "## Volcano plot\n",
        "\n",
        "Here we plot our output results using a simple volcano plot. The plots is scaled so that an OR of 1 is always in the centre of the plot. N.b. if a gene panel does not contain any of the genes on your list it will not be shown."
      ],
      "metadata": {
        "id": "m56pZyRHQBsl"
      }
    },
    {
      "cell_type": "code",
      "source": [
        "def create_volcano_plot(df, column, significance_level=0.05, ylabel='', filename='volcano_plot.png'):\n",
        "    # Transforming column into -log10(column)\n",
        "    df['-log10(' + column + ')'] = -np.log10(df[column])\n",
        "\n",
        "    # Creating boolean masks for significant and non-significant points\n",
        "    sig = df[column] < significance_level\n",
        "    not_sig = df[column] >= significance_level\n",
        "\n",
        "    # Create the figure and axis objects\n",
        "    fig, ax = plt.subplots()\n",
        "\n",
        "    # Plot the significant points in blue\n",
        "    sig_scatter = ax.scatter(df['Odds Ratio'][sig], df['-log10(' + column + ')'][sig], color='blue')\n",
        "\n",
        "    # Plot the non-significant points in red\n",
        "    not_sig_scatter = ax.scatter(df['Odds Ratio'][not_sig], df['-log10(' + column + ')'][not_sig], color='red')\n",
        "\n",
        "    # Set the scale of x axis as log scale\n",
        "    ax.set_xscale('log')\n",
        "\n",
        "    # Filter out zeros, infinities, and NaN values before calculating max and min OR values\n",
        "    filtered_OR = df['Odds Ratio'].replace([np.inf, -np.inf, 0], np.nan).dropna()\n",
        "\n",
        "    # Take the reciprocal of any OR less than 1.\n",
        "    reciprocal_OR = filtered_OR.copy()\n",
        "    reciprocal_OR[filtered_OR < 1] = 1 / reciprocal_OR[filtered_OR < 1]\n",
        "\n",
        "    # Look for the maximum x value between the OR values and the reciprocal OR values.\n",
        "    max_OR = max(filtered_OR.max(), reciprocal_OR.max())\n",
        "\n",
        "    # Round this value up to the nearest value on the log scale\n",
        "    max_x = 10 ** (math.ceil(math.log10(max_OR)))\n",
        "\n",
        "    # Use this value as max_x and take its reciprocal to be min_x\n",
        "    min_x = 1 / max_x\n",
        "\n",
        "    # Set the minimum and maximum value of x-axis\n",
        "    ax.set_xlim([min_x, max_x])\n",
        "\n",
        "    # Label the axes\n",
        "    ax.set_xlabel('Odds Ratio')\n",
        "    ax.set_ylabel(ylabel)\n",
        "\n",
        "    # Add the legend\n",
        "    ax.legend([sig_scatter, not_sig_scatter], ['Significant (' + column + '<0.05)', 'Not Significant'])\n",
        "\n",
        "    # Save the plot to a file\n",
        "    plt.savefig(filename, dpi=300, bbox_inches='tight')\n",
        "\n",
        "    # Show the plot\n",
        "    plt.show()\n",
        "\n",
        "# Create the plots\n",
        "create_volcano_plot(result_df, 'p-value', ylabel='-log10(p-value)', filename='volcano_plot_p.png')\n",
        "create_volcano_plot(result_df, 'q-value', ylabel='-log10(q-value)', filename='volcano_plot_q.png')\n"
      ],
      "metadata": {
        "id": "VC9rz9JmfxlY"
      },
      "execution_count": null,
      "outputs": []
    },
    {
      "cell_type": "markdown",
      "source": [
        "### Summary of significant results\n",
        "A styled table of top 10 most enriched panels"
      ],
      "metadata": {
        "id": "KH4mOGfyYmu0"
      }
    },
    {
      "cell_type": "code",
      "source": [
        "# Filter the data to only include rows with q-value less than 0.05\n",
        "filtered_df = result_df[result_df['q-value'] < 0.05]\n",
        "\n",
        "# Sort the data by q-value in ascending order and take the top 10 rows\n",
        "top_10_df = filtered_df.sort_values(by='q-value', ascending=True).head(10)\n",
        "\n",
        "# Add a function to wrap text after 5 words\n",
        "def wrap_text(text, line_length=5):\n",
        "    words = text.split()\n",
        "    return '\\n'.join([' '.join(words[i:i+line_length]) for i in range(0, len(words), line_length)])\n",
        "\n",
        "# Apply the function to the Panel Name column\n",
        "top_10_df['Panel Name'] = top_10_df['Panel Name'].apply(wrap_text)\n",
        "\n",
        "# Save the top 10 rows as a figure\n",
        "def render_mpl_table(data, col_width=2.5, row_height=0.625, font_size=14,\n",
        "                     header_color='#40466e', row_colors=['#f1f1f2', 'w'], edge_color='w',\n",
        "                     bbox=[0, 0, 1, 1], header_columns=0,\n",
        "                     ax=None, **kwargs):\n",
        "    if ax is None:\n",
        "        size = (np.array(data.shape[::-1]) + np.array([0, 1])) * np.array([col_width, row_height])\n",
        "        fig, ax = plt.subplots(figsize=size)\n",
        "        ax.axis('off')\n",
        "\n",
        "    mpl_table = ax.table(cellText=data.values, bbox=bbox, colLabels=data.columns, **kwargs)\n",
        "\n",
        "    mpl_table.auto_set_font_size(False)\n",
        "    mpl_table.set_fontsize(font_size)\n",
        "\n",
        "    for k, cell in six.iteritems(mpl_table._cells):\n",
        "        cell.set_edgecolor(edge_color)\n",
        "        if k[0] == 0:\n",
        "            cell.set_text_props(weight='bold', color='w')\n",
        "            cell.set_facecolor(header_color)\n",
        "        else:\n",
        "            cell.set_facecolor(row_colors[k[0]%len(row_colors)])\n",
        "        # Make Panel Name cell wider and wrap the text\n",
        "        if k[1] == 1:\n",
        "            cell.get_text().set_wrap(True)\n",
        "            cell.set_width(5*col_width)\n",
        "        else:  # This line sets the width for other cells\n",
        "            cell.set_width(col_width)\n",
        "    return fig, ax\n",
        "\n",
        "# Convert 'Panel ID' to string\n",
        "top_10_df['Panel ID'] = top_10_df['Panel ID'].astype(str)\n",
        "\n",
        "def round_to_sigfigs(num, sig_figs):\n",
        "    if np.isinf(num):\n",
        "        return num  # if the value is np.inf or -np.inf, return it as is\n",
        "    elif num != 0:\n",
        "        return round(num, -int(math.floor(math.log10(abs(num))) - (sig_figs - 1)))\n",
        "    else:\n",
        "        return 0  # Can't take the log of 0\n",
        "\n",
        "# Apply the function to the DataFrame\n",
        "top_10_df = top_10_df.applymap(lambda x: round_to_sigfigs(x, 3) if isinstance(x, (int, float)) else x)\n",
        "\n",
        "# Drop the '-log10(p-value)' and '-log10(q-value)' columns\n",
        "top_10_df = top_10_df.drop(columns=['-log10(p-value)', '-log10(q-value)'])\n",
        "\n",
        "fig, ax = render_mpl_table(top_10_df, header_columns=0, col_width=3)\n",
        "\n",
        "# Save the figure\n",
        "fig.savefig('top_10_significant_results.png')\n",
        "\n",
        "# Display the figure in the notebook\n",
        "plt.show()\n"
      ],
      "metadata": {
        "id": "KwPhKkFjKOry"
      },
      "execution_count": null,
      "outputs": []
    },
    {
      "cell_type": "markdown",
      "source": [
        "### Make a clustergram\n",
        "A heatmap of the genes in the top 10 most enriched panels"
      ],
      "metadata": {
        "id": "b_E_EuFcrRvy"
      }
    },
    {
      "cell_type": "code",
      "source": [
        "# Get the panel names from the table\n",
        "top_10_panels = top_10_df['Panel Name'].values\n",
        "\n",
        "# Extract the columns of the top 10 panels from overlapping_genes_df\n",
        "top_10_panels_df = overlapping_genes_df[top_10_panels]\n",
        "\n",
        "# Concatenate the genes from all the top 10 panels into one Series, remove duplicates to get unique genes\n",
        "unique_genes = pd.concat([top_10_panels_df[panel].dropna() for panel in top_10_panels]).unique()\n",
        "\n",
        "# Initialize a new DataFrame with unique genes as index and top 10 panels as columns\n",
        "binary_matrix = pd.DataFrame(index=unique_genes, columns=top_10_panels)\n",
        "\n",
        "# Fill in the value for each gene as 1 if it is present in that panel, and 0 if not\n",
        "for panel in top_10_panels:\n",
        "    binary_matrix.loc[top_10_panels_df[panel].dropna().values, panel] = 1\n",
        "\n",
        "# Fill the rest of the matrix with 0\n",
        "binary_matrix.fillna(0, inplace=True)\n",
        "\n",
        "# Plot a heatmap using the binary_matrix\n",
        "plt.figure(figsize=(10, 10))  # Adjust the figure size as needed\n",
        "sns.heatmap(binary_matrix, cmap='Blues', cbar=False)\n",
        "# plt.title(\"Gene Presence in Top 10 Panels\")\n",
        "plt.xlabel(\"Panel Name\")\n",
        "plt.ylabel(\"Gene\")\n",
        "\n",
        "# Adjust the layout\n",
        "plt.tight_layout()\n",
        "\n",
        "# Save the figure\n",
        "plt.savefig('genes_top_10_significant_results.png')\n",
        "\n",
        "# Show the figure\n",
        "plt.show()\n"
      ],
      "metadata": {
        "id": "dnIiLuPPYYGR"
      },
      "execution_count": null,
      "outputs": []
    }
  ]
}