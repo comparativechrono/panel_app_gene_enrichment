{
  "nbformat": 4,
  "nbformat_minor": 0,
  "metadata": {
    "colab": {
      "provenance": [],
      "include_colab_link": true
    },
    "kernelspec": {
      "name": "python3",
      "display_name": "Python 3"
    },
    "language_info": {
      "name": "python"
    }
  },
  "cells": [
    {
      "cell_type": "markdown",
      "metadata": {
        "id": "view-in-github",
        "colab_type": "text"
      },
      "source": [
        "<a href=\"https://colab.research.google.com/github/comparativechrono/panel_app_gene_enrichment/blob/main/panel_app_gene_association.ipynb\" target=\"_parent\"><img src=\"https://colab.research.google.com/assets/colab-badge.svg\" alt=\"Open In Colab\"/></a>"
      ]
    },
    {
      "cell_type": "markdown",
      "source": [
        "# PanelApp Gene Enrichment v1.2\n",
        "\n",
        "In this notebook we do some simple enrichment on the Genomics England gene panels pulled from the PanelApp API. The code cycles through panel app panels, gets panel IDs, and obtains the gene symbols for the green genes on each panel. Then we provide some example gene sets for enrichment analysis, and look for whether any panels are enriched in these gene sets."
      ],
      "metadata": {
        "id": "8FdDdoADVkNV"
      }
    },
    {
      "cell_type": "markdown",
      "source": [
        "# Environment preperation"
      ],
      "metadata": {
        "id": "NsR_WGfb7Er7"
      }
    },
    {
      "cell_type": "code",
      "source": [
        "import requests\n",
        "import pandas as pd\n",
        "from scipy.stats import fisher_exact\n",
        "import matplotlib.pyplot as plt\n",
        "import numpy as np\n",
        "import statsmodels.stats.multitest as multi\n",
        "import math\n"
      ],
      "metadata": {
        "id": "ayY0vRxo5xJ7"
      },
      "execution_count": null,
      "outputs": []
    },
    {
      "cell_type": "markdown",
      "source": [
        "# Step 1 - Data Acquisition\n",
        "Get all the genes for each gene panel from the PanelApp API. Change confidence level to 2 for amber genes, currently set at 3 for green genes."
      ],
      "metadata": {
        "id": "ttVNdEPr54P0"
      }
    },
    {
      "cell_type": "code",
      "source": [
        "def get_all_panels():\n",
        "    # Define the base URL\n",
        "    base_url = 'https://panelapp.genomicsengland.co.uk/api/v1/'\n",
        "\n",
        "    # Define the endpoint path\n",
        "    endpoint_path = 'panels/'\n",
        "\n",
        "    # Create the full URL\n",
        "    full_url = base_url + endpoint_path\n",
        "\n",
        "    all_panels = []\n",
        "\n",
        "    while full_url is not None:\n",
        "        # Make the request\n",
        "        response = requests.get(full_url)\n",
        "\n",
        "        # Check that the request was successful\n",
        "        if response.status_code == 200:\n",
        "            # Parse the response as JSON\n",
        "            panels = response.json()\n",
        "\n",
        "            # Add the results to our list\n",
        "            all_panels.extend(panels['results'])\n",
        "\n",
        "            # Get the next URL\n",
        "            full_url = panels['next']\n",
        "        else:\n",
        "            print(f'Request failed with status code {response.status_code}')\n",
        "            return None\n",
        "\n",
        "    return all_panels\n",
        "\n",
        "def get_genes_for_panel(panel_id, confidence_level=3):\n",
        "    # Define the base URL\n",
        "    base_url = 'https://panelapp.genomicsengland.co.uk/api/v1/'\n",
        "\n",
        "    # Define the endpoint path\n",
        "    endpoint_path = f'panels/{panel_id}/genes/?confidence_level={confidence_level}'\n",
        "\n",
        "    # Create the full URL\n",
        "    full_url = base_url + endpoint_path\n",
        "\n",
        "    # Make the request\n",
        "    response = requests.get(full_url)\n",
        "\n",
        "    # Check that the request was successful\n",
        "    if response.status_code == 200:\n",
        "        # Parse the response as JSON\n",
        "        panel_data = response.json()\n",
        "\n",
        "        # Return the gene symbols\n",
        "        return [gene['gene_data']['gene_symbol'] for gene in panel_data['results']]\n",
        "    else:\n",
        "        print(f'Request failed with status code {response.status_code}')\n",
        "        return None\n",
        "\n",
        "# Get all panels\n",
        "all_panels = get_all_panels()\n",
        "\n",
        "if all_panels is not None:\n",
        "    # Create a DataFrame from the list of panels\n",
        "    df = pd.DataFrame(all_panels)\n",
        "\n",
        "    # Create an empty dictionary to store gene series\n",
        "    genes_dict = {}\n",
        "\n",
        "    # Iterate over the panels\n",
        "    for panel_id in df['id']:\n",
        "        # Get the genes for the panel\n",
        "        genes = get_genes_for_panel(panel_id, 3)\n",
        "\n",
        "        # Add the genes to the dictionary\n",
        "        if genes is not None:\n",
        "            genes_dict[panel_id] = pd.Series(genes, dtype='object')\n",
        "\n",
        "    # Create a DataFrame from the dictionary\n",
        "    genes_df = pd.concat(genes_dict, axis=1)\n",
        "\n",
        "    # Save the genes DataFrame to a CSV file\n",
        "    genes_df.to_csv('genes.csv')\n"
      ],
      "metadata": {
        "id": "y98LzbrnTy26"
      },
      "execution_count": null,
      "outputs": []
    },
    {
      "cell_type": "markdown",
      "source": [
        "# Step 2 - Gene Panel Enrichment Testing"
      ],
      "metadata": {
        "id": "sox8ECrX6gPl"
      }
    },
    {
      "cell_type": "markdown",
      "source": [
        "Get panel names from original API request"
      ],
      "metadata": {
        "id": "TJR-UI9yQV_n"
      }
    },
    {
      "cell_type": "code",
      "source": [
        "panel_id_to_name = {panel['id']: panel['name'] for panel in all_panels}\n"
      ],
      "metadata": {
        "id": "17-lUdSji9E0"
      },
      "execution_count": null,
      "outputs": []
    },
    {
      "cell_type": "markdown",
      "source": [
        "### Download your dataset for looking for enrichment\n",
        "Three are used in the paper:\n",
        "\n",
        "1.   circaDB rhythmic genes (http://circadb.hogeneschlab.org/human)\n",
        "2.   maternal effect genes\n",
        "3.   GO:0019318 - hexose metabolic process (https://amigo.geneontology.org/amigo/term/GO:0019318)\n",
        "\n",
        "The gene lists are stored in the `examples` directory on GitHub\n"
      ],
      "metadata": {
        "id": "7IhFI2OjQPbo"
      }
    },
    {
      "cell_type": "code",
      "source": [
        "# dataset_url = \"https://raw.githubusercontent.com/comparativechrono/panel_app_gene_enrichment/main/examples/circaDB.tsv\"\n",
        "\n",
        "# dataset_url = \"https://raw.githubusercontent.com/comparativechrono/panel_app_gene_enrichment/main/examples/maternal.tsv\"\n",
        "\n",
        "dataset_url = \"https://raw.githubusercontent.com/comparativechrono/panel_app_gene_enrichment/main/examples/0019318.tsv\""
      ],
      "metadata": {
        "id": "kPlxXR5rRZK9"
      },
      "execution_count": null,
      "outputs": []
    },
    {
      "cell_type": "markdown",
      "source": [
        "### Perform the enrichment using Fishers exact test\n",
        "\n",
        "Two things are outputted from this code block. First, the results of Fisher's exact test, and the FDR corrected p value. Secondly, a file containing the genes in the overlap between the gene set being tested and the panels."
      ],
      "metadata": {
        "id": "fXHZdqXt7MSC"
      }
    },
    {
      "cell_type": "code",
      "source": [
        "# Load gene set\n",
        "gene_set = set(pd.read_csv(dataset_url, sep='\\t', header=None)[0])\n",
        "\n",
        "# Calculate Fisher's test for each panel\n",
        "results = []\n",
        "overlapping_genes_dict = {}  # Create a dictionary to hold the overlapping genes\n",
        "total_genes = 20449\n",
        "for panel_id, panel_genes in genes_df.items():\n",
        "    panel_genes = set(panel_genes.dropna())\n",
        "    overlapping_genes = gene_set & panel_genes  # Get the overlapping genes\n",
        "    in_gene_set_and_panel = len(gene_set & panel_genes)\n",
        "    in_gene_set_and_not_panel = len(gene_set) - in_gene_set_and_panel\n",
        "    in_not_gene_set_and_panel = len(panel_genes) - in_gene_set_and_panel\n",
        "    in_not_gene_set_and_not_panel = total_genes - len(gene_set) - in_not_gene_set_and_panel\n",
        "\n",
        "    contingency_table = [[in_gene_set_and_panel, in_gene_set_and_not_panel],\n",
        "                         [in_not_gene_set_and_panel, in_not_gene_set_and_not_panel]]\n",
        "\n",
        "    odds_ratio, p_value = fisher_exact(contingency_table)\n",
        "\n",
        "    # Include panel name in results\n",
        "    panel_name = panel_id_to_name[int(panel_id)]\n",
        "    results.append((panel_id, panel_name, odds_ratio, p_value))\n",
        "\n",
        "    # Store the overlapping genes for this panel\n",
        "    overlapping_genes_dict[panel_name] = list(overlapping_genes)\n",
        "\n",
        "# Create a DataFrame from the results\n",
        "result_df = pd.DataFrame(results, columns=['Panel ID', 'Panel Name', 'Odds Ratio', 'p-value'])\n",
        "\n",
        "# Perform FDR correction on the p-values\n",
        "result_df['q-value'] = multi.multipletests(result_df['p-value'], method='fdr_bh')[1]\n",
        "\n",
        "# Save the DataFrame to a CSV file\n",
        "result_df.to_csv('fisher_results.csv')\n",
        "\n",
        "# Convert the overlapping genes dictionary to a DataFrame\n",
        "overlapping_genes_df = pd.DataFrame(dict([ (k,pd.Series(v, dtype=object)) for k,v in overlapping_genes_dict.items() ]))\n",
        "\n",
        "# Save the DataFrame to a CSV file\n",
        "overlapping_genes_df.to_csv('overlapping_genes.csv', index=False)\n",
        "\n"
      ],
      "metadata": {
        "id": "mLlE8IsPjB8S"
      },
      "execution_count": null,
      "outputs": []
    },
    {
      "cell_type": "markdown",
      "source": [
        "# Step 3 - Data Visualization\n",
        "\n",
        "Here we plot our output results using a simple volcano plot. The plots is scaled so that an OR of 1 is always in the centre of the plot. N.b. if a gene panel does not contain any of the genes on your list it will not be shown.\n",
        "\n",
        "Plots of p-value and q-value vs OR"
      ],
      "metadata": {
        "id": "Z252Ysjm6l1x"
      }
    },
    {
      "cell_type": "code",
      "source": [
        "def create_volcano_plot(df, column, significance_level=0.05, ylabel='', filename='volcano_plot.png'):\n",
        "    # Transforming column into -log10(column)\n",
        "    df['-log10(' + column + ')'] = -np.log10(df[column])\n",
        "\n",
        "    # Creating boolean masks for significant and non-significant points\n",
        "    sig = df[column] < significance_level\n",
        "    not_sig = df[column] >= significance_level\n",
        "\n",
        "    # Create the figure and axis objects\n",
        "    fig, ax = plt.subplots()\n",
        "\n",
        "    # Plot the significant points in blue\n",
        "    sig_scatter = ax.scatter(df['Odds Ratio'][sig], df['-log10(' + column + ')'][sig], color='blue')\n",
        "\n",
        "    # Plot the non-significant points in red\n",
        "    not_sig_scatter = ax.scatter(df['Odds Ratio'][not_sig], df['-log10(' + column + ')'][not_sig], color='red')\n",
        "\n",
        "    # Set the scale of x axis as log scale\n",
        "    ax.set_xscale('log')\n",
        "\n",
        "    # Filter out zeros, infinities, and NaN values before calculating max and min OR values\n",
        "    filtered_OR = df['Odds Ratio'].replace([np.inf, -np.inf, 0], np.nan).dropna()\n",
        "\n",
        "    # Take the reciprocal of any OR less than 1.\n",
        "    reciprocal_OR = filtered_OR.copy()\n",
        "    reciprocal_OR[filtered_OR < 1] = 1 / reciprocal_OR[filtered_OR < 1]\n",
        "\n",
        "    # Look for the maximum x value between the OR values and the reciprocal OR values.\n",
        "    max_OR = max(filtered_OR.max(), reciprocal_OR.max())\n",
        "\n",
        "    # Round this value up to the nearest value on the log scale\n",
        "    max_x = 10 ** (math.ceil(math.log10(max_OR)))\n",
        "\n",
        "    # Use this value as max_x and take its reciprocal to be min_x\n",
        "    min_x = 1 / max_x\n",
        "\n",
        "    # Set the minimum and maximum value of x-axis\n",
        "    ax.set_xlim([min_x, max_x])\n",
        "\n",
        "    # Label the axes\n",
        "    ax.set_xlabel('Odds Ratio')\n",
        "    ax.set_ylabel(ylabel)\n",
        "\n",
        "    # Add the legend\n",
        "    ax.legend([sig_scatter, not_sig_scatter], ['Significant (' + column + '<0.05)', 'Not Significant'])\n",
        "\n",
        "    # Save the plot to a file\n",
        "    plt.savefig(filename, dpi=300)\n",
        "\n",
        "    # Show the plot\n",
        "    plt.show()\n",
        "\n",
        "# Create the plots\n",
        "create_volcano_plot(result_df, 'p-value', ylabel='-log10(p-value)', filename='volcano_plot_p.png')\n",
        "create_volcano_plot(result_df, 'q-value', ylabel='-log10(q-value)', filename='volcano_plot_q.png')\n"
      ],
      "metadata": {
        "id": "VC9rz9JmfxlY"
      },
      "execution_count": null,
      "outputs": []
    }
  ]
}